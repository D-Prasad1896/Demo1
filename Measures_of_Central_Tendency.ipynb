{
 "cells": [
  {
   "cell_type": "markdown",
   "id": "6fc12c27-9443-4074-8918-ed128c4e6c68",
   "metadata": {},
   "source": [
    "# Data and its Types:"
   ]
  },
  {
   "cell_type": "markdown",
   "id": "d4350ab7-0aa8-407e-b930-f57b5630deea",
   "metadata": {},
   "source": [
    "Data is information that is processed or analyzed to derive meaning. It can be numbers, text, images, sounds, or any other form of information that can be collected and stored."
   ]
  },
  {
   "cell_type": "markdown",
   "id": "01acfc64-5eba-4190-a290-daeb8bc59b1a",
   "metadata": {},
   "source": [
    "The data can be of two types:\n",
    "\n",
    "1. Numerical Data\n",
    "\n",
    "2. Categorical Data"
   ]
  },
  {
   "cell_type": "markdown",
   "id": "aa34428c-b9b7-4e52-8ceb-099b1c46063a",
   "metadata": {},
   "source": [
    "#### 1. Numerical Data:"
   ]
  },
  {
   "cell_type": "markdown",
   "id": "0214051a-5d14-4146-a288-77589bab98eb",
   "metadata": {},
   "source": [
    "Numerical data is quantitative data that can be measured and expressed numerically. These numbers can represent quantities, measurements, or counts."
   ]
  },
  {
   "cell_type": "markdown",
   "id": "371941f5-1326-4b4b-a541-e2aa92fe99f6",
   "metadata": {},
   "source": [
    "For example: Age, Height, Weight, Income, Temperature"
   ]
  },
  {
   "cell_type": "markdown",
   "id": "f375693a-01e7-41e1-9fe0-6fb841e8c671",
   "metadata": {},
   "source": [
    "##### Types of Numerical Data:"
   ]
  },
  {
   "cell_type": "markdown",
   "id": "4a28350b-821c-4518-9b83-0c84c73aa335",
   "metadata": {},
   "source": [
    "1. Discrete Data: Can only take on specific, separate values. For example, the number of cars in a parking lot.\n",
    "\n",
    "2. Continuous Data: Can take on any value within a given range. For example, the height of a person."
   ]
  },
  {
   "cell_type": "markdown",
   "id": "3aaa8d5a-23b0-4b9f-b670-6534cf284f59",
   "metadata": {},
   "source": [
    "#### 2. Categorical Data:"
   ]
  },
  {
   "cell_type": "markdown",
   "id": "a3403ad8-7af6-4cd4-8a49-10097943f3a5",
   "metadata": {},
   "source": [
    "Categorical data is qualitative data that can be divided into distinct categories or groups. These categories are often represented by labels or names, rather than numbers that have mathematical meaning."
   ]
  },
  {
   "cell_type": "markdown",
   "id": "93440480-18f2-4ec1-8776-85b9fd72e46b",
   "metadata": {},
   "source": [
    "For example: Colours, Countries, Brands, Marital Status"
   ]
  },
  {
   "cell_type": "markdown",
   "id": "f30631bd-054e-4fbf-af20-09461f49a738",
   "metadata": {},
   "source": [
    "##### Types of Categorical Data:"
   ]
  },
  {
   "cell_type": "markdown",
   "id": "fe6230dc-3bdd-49d3-b2c1-9dddef9c1246",
   "metadata": {},
   "source": [
    "1. Nominal Data:\n",
    "\n",
    "   No inherent order or ranking.\n",
    "\n",
    "   Categories are mutually exclusive.\n",
    "\n",
    "    Examples:\n",
    "    Colors (red, blue, green),\n",
    "    Countries (India, USA, China),\n",
    "    Brands (Apple, Samsung, Google),\n",
    "    Marital Status (Single, Married, Divorced, Widowed)\n",
    "\n",
    "2. Ordinal Data:\n",
    "\n",
    "    Categories have a natural order or ranking.\n",
    "    \n",
    "    Categories are mutually exclusive.\n",
    "    \n",
    "    Examples:\n",
    "    Educational Level (High School, Bachelor's, Master's, PhD),\n",
    "    Likert Scale (Strongly Disagree, Disagree, Neutral, Agree, Strongly Agree),\n",
    "    Letter Grades (A, B, C, D, F),\n",
    "    Socioeconomic Status (Low, Middle, High)"
   ]
  },
  {
   "cell_type": "markdown",
   "id": "a253e5db-abdb-4ec7-85e3-d8ae63bedd68",
   "metadata": {},
   "source": [
    "# Introduction to Statistics"
   ]
  },
  {
   "attachments": {},
   "cell_type": "markdown",
   "id": "1d6f8f91-a08c-4ac1-81f2-3b03ce0e6aef",
   "metadata": {},
   "source": [
    "#### Statistics is the science of collecting, analyzing, interpreting, presenting, and organizing data. \r\n"
   ]
  },
  {
   "attachments": {},
   "cell_type": "markdown",
   "id": "48eae359-598b-4bf4-a2d3-ba3f8f2aa77a",
   "metadata": {},
   "source": [
    "#### It involves the use of mathematical methods to summarize and describe data, as well as to draw conclusions from it.\r\n"
   ]
  },
  {
   "cell_type": "markdown",
   "id": "0bfa6011-3ef0-45f7-9335-6b651c259d3b",
   "metadata": {},
   "source": [
    "### Types of Statistics:"
   ]
  },
  {
   "cell_type": "markdown",
   "id": "0bb50baf-0941-4116-a78b-775f769f5a89",
   "metadata": {},
   "source": [
    "#### Statistics is broadly classified into two type:\n",
    "\n",
    "1. Descriptive Statistics\n",
    "\n",
    "2. Inferential Statistics\n"
   ]
  },
  {
   "attachments": {},
   "cell_type": "markdown",
   "id": "a24fe017-8513-4c85-9882-ca640f1d28d4",
   "metadata": {},
   "source": [
    "### 1. Descriptive Statistics"
   ]
  },
  {
   "attachments": {},
   "cell_type": "markdown",
   "id": "cd274e5e-6119-4c11-83ae-ac1ff2418e5c",
   "metadata": {},
   "source": [
    "Descriptive statistics is a branch of statistics that focuses on summarizing and describing data. \r\n"
   ]
  },
  {
   "attachments": {},
   "cell_type": "markdown",
   "id": "ddcb5313-92a7-4300-b4e7-3fa39540109f",
   "metadata": {},
   "source": [
    "It provides a way to understand the key characteristics of a dataset without making inferences about a larger population.\r\n"
   ]
  },
  {
   "attachments": {},
   "cell_type": "markdown",
   "id": "780b0561-390d-455d-ad1f-c1a2068dfb7f",
   "metadata": {},
   "source": [
    "#### The descriptive statistics can be:\n",
    "\n",
    "1. Measures of Central Tendency\r\n",
    "2. \r\n",
    "Measures of Dispersion\r\n"
   ]
  },
  {
   "cell_type": "markdown",
   "id": "c72dd0c2-42e5-42fe-9720-dec65ec42bfd",
   "metadata": {},
   "source": [
    "# Measures of Central Tendency:"
   ]
  },
  {
   "cell_type": "markdown",
   "id": "d94693a7-b8f7-424f-8f07-9dee79a3a7c7",
   "metadata": {},
   "source": [
    "Central Tendency is a statistical measure that describes the average or typical value in a dataset. It helps to summarize a distribution of data into a single number."
   ]
  },
  {
   "cell_type": "markdown",
   "id": "0c398dab-c19f-4640-992b-829535d61f22",
   "metadata": {},
   "source": [
    "There are basically three measures of central tendency:\n",
    "1. Mean\n",
    "\n",
    "2. Median\n",
    "\n",
    "3. Mode"
   ]
  },
  {
   "cell_type": "markdown",
   "id": "3961d333-533e-45be-b6b7-ddaca27d8d94",
   "metadata": {},
   "source": [
    "## 1. Mean:"
   ]
  },
  {
   "cell_type": "markdown",
   "id": "51dec3d9-a296-47de-b256-9a8814ffe14b",
   "metadata": {},
   "source": [
    "Mean is a statistical term that refers to the average value of a set of numbers. It's calculated by adding up all the numbers in the set and then dividing by the total number of numbers."
   ]
  },
  {
   "cell_type": "markdown",
   "id": "a0046ee0-711f-4bac-9f3f-f7d41c6da7da",
   "metadata": {},
   "source": [
    "The three types of means are:\n",
    "\n",
    "1. Arithmetic Mean\n",
    "\n",
    "2. Geometric Mean\n",
    "\n",
    "3. Harmonic Mean"
   ]
  },
  {
   "cell_type": "markdown",
   "id": "6de2a962-aac8-4d63-a9b2-8d4a61182d49",
   "metadata": {},
   "source": [
    "### 1.1 Arithmetic Mean:"
   ]
  },
  {
   "cell_type": "markdown",
   "id": "e0f9cedd-e0da-490d-a9b3-505811102959",
   "metadata": {},
   "source": [
    "This is the most common type of mean and is calculated by adding up all the numbers in a set and dividing by the total number of numbers."
   ]
  },
  {
   "attachments": {
    "f6d40bc0-859a-46e9-acb5-28cb9c410889.png": {
     "image/png": "[encoded data removed]"
    }
   },
   "cell_type": "markdown",
   "id": "adb9aea7-d458-41e3-9eb0-eff58bada8f8",
   "metadata": {},
   "source": [
    "![image.png](attachment:f6d40bc0-859a-46e9-acb5-28cb9c410889.png)"
   ]
  },
  {
   "cell_type": "markdown",
   "id": "94567c78-4a9b-4233-9a5f-a2db5e352f39",
   "metadata": {},
   "source": [
    "Python Documentation for Statistics Library: https://docs.python.org/3/library/statistics.html"
   ]
  },
  {
   "cell_type": "markdown",
   "id": "809aedee-107b-4da0-8e18-3644e131eb7f",
   "metadata": {},
   "source": [
    "a = [1,2,3,4,5,6,7,8,9,10]\n",
    "\n",
    "arithmetic_average = sum(a) / len(a)"
   ]
  },
  {
   "cell_type": "markdown",
   "id": "a3d6859a-9a90-45d8-bb0b-59880a44346c",
   "metadata": {},
   "source": [
    "import statistics\n",
    "\n",
    "mean = statistics.mean(a)\n",
    "\n",
    "print('Mean:', mean)"
   ]
  },
  {
   "cell_type": "code",
   "execution_count": null,
   "id": "d46d7638-b67e-485f-8165-6da489ad01d0",
   "metadata": {},
   "outputs": [],
   "source": []
  },
  {
   "cell_type": "markdown",
   "id": "7ab6729a-c743-4d7e-a7d2-20560f68f37a",
   "metadata": {},
   "source": [
    "#### Write a python program which will take list of numbers from user and return arithmetic average of it."
   ]
  },
  {
   "cell_type": "code",
   "execution_count": null,
   "id": "6751e494-7341-419c-8dc5-79601b125c2f",
   "metadata": {},
   "outputs": [],
   "source": []
  },
  {
   "cell_type": "markdown",
   "id": "60ed49d4-91e9-4ed4-a64e-69feee75cf87",
   "metadata": {},
   "source": [
    "#### Define a function which will return the arithmetic mean for given list of numbers."
   ]
  },
  {
   "cell_type": "code",
   "execution_count": null,
   "id": "2bf6fd57-bddf-4d5b-a5b0-2be2c6ea5c0c",
   "metadata": {},
   "outputs": [],
   "source": []
  },
  {
   "cell_type": "markdown",
   "id": "9604af25-7442-4d19-b3ba-0bf6c2b04162",
   "metadata": {},
   "source": [
    "#### Mean of an Array:"
   ]
  },
  {
   "cell_type": "markdown",
   "id": "87925650-700f-47cd-9d38-bde6d9ab0d46",
   "metadata": {},
   "source": [
    "To calculate the arithmetic mean of an array we use .mean() method"
   ]
  },
  {
   "cell_type": "markdown",
   "id": "2d0f7e24-ea4b-4c28-8256-dac57546cce0",
   "metadata": {},
   "source": [
    "import numpy as np\n",
    "\n",
    "a = np.array([1,2,3,4,5])\n",
    "\n",
    "print(a.mean())"
   ]
  },
  {
   "cell_type": "code",
   "execution_count": null,
   "id": "63e9061a-56b1-452b-b8e0-c729d354836e",
   "metadata": {},
   "outputs": [],
   "source": []
  },
  {
   "cell_type": "markdown",
   "id": "b7ad7a0a-3d4d-4be5-bd99-bfa0390651ac",
   "metadata": {},
   "source": [
    "#### Create an array with the help of list comprehension and find its arithmetic mean."
   ]
  },
  {
   "cell_type": "code",
   "execution_count": null,
   "id": "9ab8e704-7b41-450c-81c7-2af24b9bef4a",
   "metadata": {},
   "outputs": [],
   "source": []
  },
  {
   "cell_type": "markdown",
   "id": "b0eb4df1-565a-47c3-b36f-ac6c240067b1",
   "metadata": {},
   "source": [
    "#### Find the mean of an array having first 10 even numbers"
   ]
  },
  {
   "cell_type": "code",
   "execution_count": null,
   "id": "39559845-b64c-417d-a678-cd06c94975cf",
   "metadata": {},
   "outputs": [],
   "source": []
  },
  {
   "cell_type": "markdown",
   "id": "00bfa323-ddd9-48f0-aef4-85f78134db73",
   "metadata": {},
   "source": [
    "### Mean of an attribute from dataset:"
   ]
  },
  {
   "cell_type": "markdown",
   "id": "67e853c7-4309-407f-a082-40c8a5d3b615",
   "metadata": {},
   "source": [
    "import pandas as pd\n",
    "\n",
    "df = pd.read_csv('name_of_file.csv')\n",
    "\n",
    "print(df['name_of_attribute']. mean())"
   ]
  },
  {
   "cell_type": "code",
   "execution_count": null,
   "id": "71ba2502-553c-4116-86e4-670d57343e82",
   "metadata": {},
   "outputs": [],
   "source": []
  },
  {
   "cell_type": "markdown",
   "id": "09f3f2ed-2dcd-4d0c-9318-406554ee93e5",
   "metadata": {},
   "source": [
    "#### Use Salaries dataset to answer the following questions"
   ]
  },
  {
   "cell_type": "markdown",
   "id": "3b0175bd-775a-497a-b16f-8af89a8be80f",
   "metadata": {},
   "source": [
    "#### 1. What is the average salary of an employee?"
   ]
  },
  {
   "cell_type": "code",
   "execution_count": null,
   "id": "4d206e19-96aa-4d82-a3de-d05fd6d78a45",
   "metadata": {},
   "outputs": [],
   "source": []
  },
  {
   "cell_type": "markdown",
   "id": "0b27180b-fe2d-488e-a44d-f3c819d70e7e",
   "metadata": {},
   "source": [
    "#### 2. Find the average years of service for an employee?"
   ]
  },
  {
   "cell_type": "code",
   "execution_count": null,
   "id": "b68a0b22-098d-457b-9500-a644807cfd9c",
   "metadata": {},
   "outputs": [],
   "source": []
  },
  {
   "cell_type": "markdown",
   "id": "2960f068-4649-4fad-8b7c-fb4d4b0ec4f7",
   "metadata": {},
   "source": [
    "### 1.2 Geometric Mean:"
   ]
  },
  {
   "cell_type": "markdown",
   "id": "6289b6e6-1c72-4077-877b-ee9aa90fb9e6",
   "metadata": {},
   "source": [
    "The geometric mean is a type of average that is particularly useful when dealing with data that is multiplied together or when you want to find the average growth rate over time."
   ]
  },
  {
   "cell_type": "markdown",
   "id": "cfefd983-a755-4451-acaf-b2933d57f66a",
   "metadata": {},
   "source": [
    "The geometric mean is often used in finance and economics to calculate average growth rates. It is also used in statistics and engineering for various applications."
   ]
  },
  {
   "attachments": {
    "83931ab3-14f4-4556-baa9-8260a5948b07.png": {
     "image/png": "[encoded data removed]"
    }
   },
   "cell_type": "markdown",
   "id": "582f02ef-9750-414b-a438-d385801c07ef",
   "metadata": {},
   "source": [
    "![image.png](attachment:83931ab3-14f4-4556-baa9-8260a5948b07.png)"
   ]
  },
  {
   "cell_type": "markdown",
   "id": "18b0a84e-68a4-4ed6-8f6b-84bd224a31b0",
   "metadata": {},
   "source": [
    "#### HW: Create a function which will return a geometric mean of numbers"
   ]
  },
  {
   "cell_type": "markdown",
   "id": "4966a5f9-c1a2-4655-a6b7-3f5c96e955ef",
   "metadata": {},
   "source": [
    "import statistics\r\n",
    "a = [1,2,3,4]\n",
    "\n",
    "\r\n",
    "mean = statisticgeometric_s.mean(\n",
    ") printGeometric ('Mean:', mean)"
   ]
  },
  {
   "cell_type": "markdown",
   "id": "aeee09c4-a3a5-44b6-b52e-855f744445ed",
   "metadata": {},
   "source": [
    "#### Find the geometric mean for following data:\n",
    "#### a = [1,2,3]\n",
    "#### b = [23,34,45,56]"
   ]
  },
  {
   "cell_type": "code",
   "execution_count": null,
   "id": "6e8e6eaf-d2a3-4af2-b64b-c32d071d8024",
   "metadata": {},
   "outputs": [],
   "source": []
  },
  {
   "cell_type": "code",
   "execution_count": null,
   "id": "71bf9929-5bb2-4287-a622-74a18f2fbf3d",
   "metadata": {},
   "outputs": [],
   "source": []
  },
  {
   "cell_type": "markdown",
   "id": "25171bed-70d3-4c94-b96d-ccabce2e1b7f",
   "metadata": {},
   "source": [
    "### 1.3 Harmonic Mean:"
   ]
  },
  {
   "cell_type": "markdown",
   "id": "7667442c-9f88-4b32-aec0-adc4620d233c",
   "metadata": {},
   "source": [
    "The harmonic mean is a type of average that is particularly useful when dealing with rates, ratios, or averages of reciprocals. It's often used in situations where the data points represent rates or densities."
   ]
  },
  {
   "attachments": {
    "eda9f513-913a-4f4e-bddd-1816990a4601.png": {
     "image/png": "[encoded data removed]"
    }
   },
   "cell_type": "markdown",
   "id": "bd12c4ae-4c61-4c61-99e6-f5fe132075c7",
   "metadata": {},
   "source": [
    "![image.png](attachment:eda9f513-913a-4f4e-bddd-1816990a4601.png)"
   ]
  },
  {
   "cell_type": "markdown",
   "id": "8960c966-f1d5-42b0-a4ff-992d410504d3",
   "metadata": {},
   "source": [
    "When to use the harmonic mean:\n",
    "\n",
    "1. When dealing with rates, ratios, or averages of reciprocals.\n",
    "\n",
    "2. When the data points represent densities or concentrations.\n",
    "\n",
    "3. When you want to find the average of a set of numbers that are inversely related to each other."
   ]
  },
  {
   "cell_type": "markdown",
   "id": "abf71021-e318-4faa-8498-59a3c6285445",
   "metadata": {},
   "source": [
    "The harmonic mean is often used in fields like finance, physics, and engineering. It is a less common average compared to the arithmetic mean and the geometric mean, but it can be useful in specific contexts."
   ]
  },
  {
   "cell_type": "markdown",
   "id": "3a8e41c0-265b-4511-ab14-d5dfa17fc30a",
   "metadata": {},
   "source": [
    "import statistics\n",
    "\n",
    "a = [1,2,3,4]\n",
    "\n",
    "harmonic_mean_value = statistics.harmonic_mean(a)\n",
    "\n",
    "print(\"Harmonic Mean:\", harmonic_mean_value)"
   ]
  },
  {
   "cell_type": "code",
   "execution_count": null,
   "id": "4db03b20-2e24-4194-8cfc-248de37d8ba5",
   "metadata": {},
   "outputs": [],
   "source": []
  },
  {
   "cell_type": "markdown",
   "id": "14f92f48-6c9c-424c-ad8a-277afc3d616f",
   "metadata": {},
   "source": [
    "#### Problems:"
   ]
  },
  {
   "cell_type": "markdown",
   "id": "c9e9bd9a-603d-427b-b139-783eb943df3e",
   "metadata": {},
   "source": [
    "1. A teacher wants to calculate the average test score for a class of students. The scores are: 85, 92, 78, 95, 88, 90, 82. Calculate the mean, geometric mean, and harmonic mean of the test scores."
   ]
  },
  {
   "cell_type": "code",
   "execution_count": null,
   "id": "17b4af31-cb5a-41ba-ba7f-c3bd2daa8f35",
   "metadata": {},
   "outputs": [],
   "source": []
  },
  {
   "cell_type": "markdown",
   "id": "fa6d9668-c6b6-4049-b436-3b0cad8b90a4",
   "metadata": {},
   "source": [
    "2. An investor wants to calculate the average growth rate of a stock over five years. The annual returns are: 12%, 8%, -5%, 15%, 10%. Calculate the mean, geometric mean, and harmonic mean of the growth rates."
   ]
  },
  {
   "cell_type": "code",
   "execution_count": null,
   "id": "a084ef77-a281-4b19-841c-fed847eeb41e",
   "metadata": {},
   "outputs": [],
   "source": []
  },
  {
   "cell_type": "markdown",
   "id": "7294236c-d5f3-4d9f-bd7d-218974b49ef6",
   "metadata": {},
   "source": [
    "3. A car travels at different speeds on a highway. The speeds are: 60 mph, 70 mph, 80 mph, 55 mph, 65 mph. Calculate the mean, geometric mean, and harmonic mean of the car's speeds."
   ]
  },
  {
   "cell_type": "code",
   "execution_count": null,
   "id": "2d90b35c-1384-43bb-baca-fb77937afb2b",
   "metadata": {},
   "outputs": [],
   "source": []
  },
  {
   "cell_type": "markdown",
   "id": "ccc80f26-2100-44fb-8234-852f149c8b53",
   "metadata": {},
   "source": [
    "4. A person takes out a loan with different interest rates for each year. The interest rates are: 5%, 4.5%, 6%, 5.25%, 4.75%. Calculate the mean, geometric mean, and harmonic mean of the interest rates."
   ]
  },
  {
   "cell_type": "code",
   "execution_count": null,
   "id": "0e1de64a-b94f-4bec-a1ef-b252d591a166",
   "metadata": {},
   "outputs": [],
   "source": []
  },
  {
   "cell_type": "markdown",
   "id": "b05ce05f-afc0-4012-a88d-a2524462f90b",
   "metadata": {},
   "source": [
    "### 2. Median:"
   ]
  },
  {
   "cell_type": "markdown",
   "id": "a6c58297-cfea-4d3b-8691-57d926e01e37",
   "metadata": {},
   "source": [
    "Median is the middle value in a data set when the data is arranged in ascending or descending order. If there are an odd number of data points, the median is the middle value. If there are an even number of data points, the median is the average of the two middle values."
   ]
  },
  {
   "cell_type": "markdown",
   "id": "7fcecd00-e5f8-42c2-b33f-eeb0de786d36",
   "metadata": {},
   "source": [
    "import statistics\n",
    "\n",
    "a = [1,2,3,4,5,6,7,8]\n",
    "\n",
    "median = statistics.median(a)\n",
    "\n",
    "print('Median:' , median)"
   ]
  },
  {
   "cell_type": "code",
   "execution_count": null,
   "id": "fd339e9c-667b-4a01-851d-b12ba4a00d9a",
   "metadata": {},
   "outputs": [],
   "source": []
  },
  {
   "cell_type": "markdown",
   "id": "3a1d7822-e6a7-416b-94ff-898f313e4b66",
   "metadata": {},
   "source": [
    "For finding a median for any attribute of a dataset use\n",
    "\n",
    "import pandas as pd\n",
    "\n",
    "df = pd.read_csv()\n",
    "\n",
    "median = df['attribute'].median()\n",
    "\n",
    "print('Median:',median)"
   ]
  },
  {
   "cell_type": "code",
   "execution_count": null,
   "id": "f33ae948-b1e6-4baa-bb5a-eaf38dc3a1c4",
   "metadata": {},
   "outputs": [],
   "source": []
  },
  {
   "cell_type": "code",
   "execution_count": null,
   "id": "c5a9e2ba-0c05-43ee-a6be-f4c56458ce45",
   "metadata": {},
   "outputs": [],
   "source": []
  },
  {
   "cell_type": "markdown",
   "id": "708d2cd9-a971-4dc5-8de9-5dbe036b10ab",
   "metadata": {},
   "source": [
    "#### Use Salaries dataset to answer the following questions"
   ]
  },
  {
   "cell_type": "markdown",
   "id": "9df62acc-2923-41c8-9b79-d6b930b7435e",
   "metadata": {},
   "source": [
    "#### 1. Find the median salary for an employee"
   ]
  },
  {
   "cell_type": "code",
   "execution_count": null,
   "id": "d27f9ab8-fd7b-45c4-91c0-1d05b7706507",
   "metadata": {},
   "outputs": [],
   "source": []
  },
  {
   "cell_type": "markdown",
   "id": "fb10f464-3fe6-4499-8912-f237114300be",
   "metadata": {},
   "source": [
    "#### 2. Find the median experience for an employee"
   ]
  },
  {
   "cell_type": "code",
   "execution_count": null,
   "id": "3b0a92ab-8b13-4a4d-ac7b-9f5ba2da398b",
   "metadata": {},
   "outputs": [],
   "source": []
  },
  {
   "cell_type": "markdown",
   "id": "53189141-f21f-4149-813b-8a58b1e30b1e",
   "metadata": {},
   "source": [
    "### 3. Mode:"
   ]
  },
  {
   "cell_type": "markdown",
   "id": "44df53b6-103b-48c7-9a3f-5b2e63fc0df8",
   "metadata": {},
   "source": [
    "Mode in statistics is the most frequently occurring value in a data set. A data set can have one mode (unimodal), more than one mode (multimodal), or no mode."
   ]
  },
  {
   "cell_type": "markdown",
   "id": "ea349961-fcf2-4e73-8007-55f1bfa14488",
   "metadata": {},
   "source": [
    "Unimodal: In the data set {1, 2, 3, 4, 5, 5, 5}, the mode is 5.\n",
    "\n",
    "Multimodal: In the data set {1, 2, 3, 3, 4, 4, 5}, the modes are 3 and 4.\n",
    "\n",
    "No mode: In the data set {1, 2, 3, 4, 5}, there is no mode."
   ]
  },
  {
   "cell_type": "markdown",
   "id": "c89abff6-c352-450d-aa98-77b15e50c711",
   "metadata": {},
   "source": [
    "import statistics\n",
    "\n",
    "a = [1,2,3,2,3,1,4,2,3,4,5,6,7,8,9]\n",
    "\n",
    "mode  = statistics.mode(a)\n",
    "\n",
    "print('Mode:' , mode)"
   ]
  },
  {
   "cell_type": "code",
   "execution_count": null,
   "id": "62a36b7b-b5c4-4843-83a9-366d3ba1cd6c",
   "metadata": {},
   "outputs": [],
   "source": []
  },
  {
   "cell_type": "markdown",
   "id": "dafe7a4d-3b87-414a-8ca2-6957f08b4270",
   "metadata": {},
   "source": [
    "For finding a mode for any attribute of a dataset use\n",
    "\n",
    "import pandas as pd\n",
    "\n",
    "df = pd.read_csv()\n",
    "\n",
    "mode = df['attribute'].mode()\n",
    "\n",
    "print('Mode:',mode)"
   ]
  },
  {
   "cell_type": "code",
   "execution_count": null,
   "id": "2387daa0-7f07-4bf5-aa37-c75fce81b03d",
   "metadata": {},
   "outputs": [],
   "source": []
  },
  {
   "cell_type": "code",
   "execution_count": null,
   "id": "ef68cfc4-f516-4570-8d60-a955f64727d4",
   "metadata": {},
   "outputs": [],
   "source": []
  },
  {
   "cell_type": "markdown",
   "id": "2fc58d4e-c70d-4548-84eb-06af8f777d1b",
   "metadata": {},
   "source": [
    "#### Use Salaries dataset to answer the following questions"
   ]
  },
  {
   "cell_type": "markdown",
   "id": "d6bbe5c5-15c0-41d7-a179-2bb213f9a536",
   "metadata": {},
   "source": [
    "#### 1. Find the mode for discipline"
   ]
  },
  {
   "cell_type": "code",
   "execution_count": null,
   "id": "cea02b7c-e76a-4ee6-bd8a-3b60cddc75ee",
   "metadata": {},
   "outputs": [],
   "source": []
  },
  {
   "cell_type": "markdown",
   "id": "ae5dc359-dc62-4c5b-b083-533ce40c88fc",
   "metadata": {},
   "source": [
    "#### 2. Find the mode for rank"
   ]
  },
  {
   "cell_type": "code",
   "execution_count": null,
   "id": "8809045f-16a7-4606-8d47-f221636d51a2",
   "metadata": {},
   "outputs": [],
   "source": []
  }
 ],
 "metadata": {
  "kernelspec": {
   "display_name": "Python 3 (ipykernel)",
   "language": "python",
   "name": "python3"
  },
  "language_info": {
   "codemirror_mode": {
    "name": "ipython",
    "version": 3
   },
   "file_extension": ".py",
   "mimetype": "text/x-python",
   "name": "python",
   "nbconvert_exporter": "python",
   "pygments_lexer": "ipython3",
   "version": "3.12.4"
  }
 },
 "nbformat": 4,
 "nbformat_minor": 5
}
